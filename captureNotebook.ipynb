{
 "metadata": {
  "name": "",
  "signature": "sha256:80e7ad19e05945b959bc8fdada0e576739b059f8e73194836eac668eb0e24a9c"
 },
 "nbformat": 3,
 "nbformat_minor": 0,
 "worksheets": [
  {
   "cells": [
    {
     "cell_type": "code",
     "collapsed": false,
     "input": [
      "import time\n",
      "from picamera import PiCamera\n",
      "from picamera.array import PiRGBArray\n",
      "import tensorflow as tf\n",
      "import argparse\n",
      "import os.path\n",
      "import re\n",
      "import numpy as np"
     ],
     "language": "python",
     "metadata": {},
     "outputs": [],
     "prompt_number": 3
    },
    {
     "cell_type": "code",
     "collapsed": false,
     "input": [
      "import matplotlib.pyplot as plt\n",
      "import matplotlib.image as mpimg\n",
      "%matplotlib inline  "
     ],
     "language": "python",
     "metadata": {},
     "outputs": [],
     "prompt_number": 4
    },
    {
     "cell_type": "code",
     "collapsed": false,
     "input": [
      "class NodeLookup(object):\n",
      "  \"\"\"Converts integer node ID's to human readable labels.\"\"\"\n",
      "\n",
      "  def __init__(self,\n",
      "               label_lookup_path='./inception/label_map.pbtxt',\n",
      "               uid_lookup_path='./inception/human_label_map.txt'):\n",
      "    if not label_lookup_path:\n",
      "      label_lookup_path = os.path.join(\n",
      "          FLAGS.model_dir, 'imagenet_2012_challenge_label_map_proto.pbtxt')\n",
      "    if not uid_lookup_path:\n",
      "      uid_lookup_path = os.path.join(\n",
      "          FLAGS.model_dir, 'imagenet_synset_to_human_label_map.txt')\n",
      "    self.node_lookup = self.load(label_lookup_path, uid_lookup_path)\n",
      "\n",
      "  def load(self, label_lookup_path, uid_lookup_path):\n",
      "    \"\"\"Loads a human readable English name for each softmax node.\n",
      "\n",
      "    Args:\n",
      "      label_lookup_path: string UID to integer node ID.\n",
      "      uid_lookup_path: string UID to human-readable string.\n",
      "\n",
      "    Returns:\n",
      "      dict from integer node ID to human-readable string.\n",
      "    \"\"\"\n",
      "    if not tf.gfile.Exists(uid_lookup_path):\n",
      "      tf.logging.fatal('File does not exist %s', uid_lookup_path)\n",
      "    if not tf.gfile.Exists(label_lookup_path):\n",
      "      tf.logging.fatal('File does not exist %s', label_lookup_path)\n",
      "\n",
      "    # Loads mapping from string UID to human-readable string\n",
      "    proto_as_ascii_lines = tf.gfile.GFile(uid_lookup_path).readlines()\n",
      "    uid_to_human = {}\n",
      "    p = re.compile(r'[n\\d]*[ \\S,]*')\n",
      "    for line in proto_as_ascii_lines:\n",
      "      parsed_items = p.findall(line)\n",
      "      uid = parsed_items[0]\n",
      "      human_string = parsed_items[2]\n",
      "      uid_to_human[uid] = human_string\n",
      "\n",
      "    # Loads mapping from string UID to integer node ID.\n",
      "    node_id_to_uid = {}\n",
      "    proto_as_ascii = tf.gfile.GFile(label_lookup_path).readlines()\n",
      "    for line in proto_as_ascii:\n",
      "      if line.startswith('  target_class:'):\n",
      "        target_class = int(line.split(': ')[1])\n",
      "      if line.startswith('  target_class_string:'):\n",
      "        target_class_string = line.split(': ')[1]\n",
      "        node_id_to_uid[target_class] = target_class_string[1:-2]\n",
      "\n",
      "    # Loads the final mapping of integer node ID to human-readable string\n",
      "    node_id_to_name = {}\n",
      "    for key, val in node_id_to_uid.items():\n",
      "      if val not in uid_to_human:\n",
      "        tf.logging.fatal('Failed to locate: %s', val)\n",
      "      name = uid_to_human[val]\n",
      "      node_id_to_name[key] = name\n",
      "\n",
      "    return node_id_to_name\n",
      "\n",
      "  def id_to_string(self, node_id):\n",
      "    if node_id not in self.node_lookup:\n",
      "      return ''\n",
      "    return self.node_lookup[node_id]"
     ],
     "language": "python",
     "metadata": {},
     "outputs": [],
     "prompt_number": 5
    },
    {
     "cell_type": "code",
     "collapsed": false,
     "input": [
      "def run_classification():\n",
      "    \"\"\"Stream images off the camera and process them.\"\"\"\n",
      "\n",
      "    camera = PiCamera()\n",
      "    camera.resolution = (320, 240)\n",
      "    camera.framerate = 2\n",
      "    raw_capture = PiRGBArray(camera, size=(320, 240))\n",
      "\n",
      "    # Warmup...\n",
      "    time.sleep(4)\n",
      "\n",
      "    # Unpersists graph from file\n",
      "    with tf.gfile.FastGFile(\"./inception/inception.pb\", 'rb') as fin:\n",
      "        graph_def = tf.GraphDef()\n",
      "        graph_def.ParseFromString(fin.read())\n",
      "        _ = tf.import_graph_def(graph_def, name='')\n",
      "\n",
      "    with tf.Session() as sess:\n",
      "        # And capture continuously forever.\n",
      "        softmax_tensor = sess.graph.get_tensor_by_name('softmax:0')\n",
      "        for _, image in enumerate(\n",
      "                camera.capture_continuous(\n",
      "                    raw_capture, format='bgr', use_video_port=True\n",
      "                )\n",
      "            ):\n",
      "           \n",
      "            decoded_image = image.array\n",
      "            # imgplot = plt.imshow(decoded_image)\n",
      "            # plt.show() \n",
      "           \n",
      "            predictions = sess.run(softmax_tensor, {'DecodeJpeg:0': decoded_image})\n",
      "            predictions = np.squeeze(predictions)\n",
      "            top_k = predictions.argsort()[-3:][::-1]\n",
      "            for node_id in top_k:\n",
      "              human_string = node_lookup.id_to_string(node_id)\n",
      "              score = predictions[node_id]\n",
      "              print('%s (score = %.5f)' % (human_string, score))\n",
      "\n",
      "            # Reset the buffer so we're ready for the next one.\n",
      "            raw_capture.truncate(0)\n",
      "\n",
      "\n",
      "   "
     ],
     "language": "python",
     "metadata": {},
     "outputs": [],
     "prompt_number": 6
    },
    {
     "cell_type": "code",
     "collapsed": false,
     "input": [
      "node_lookup = NodeLookup()\n",
      "run_classification()"
     ],
     "language": "python",
     "metadata": {},
     "outputs": [
      {
       "output_type": "stream",
       "stream": "stdout",
       "text": [
        "photocopier (score = 0.58496)\n",
        "monitor (score = 0.02225)\n",
        "projector (score = 0.02107)\n",
        "photocopier (score = 0.43995)"
       ]
      },
      {
       "output_type": "stream",
       "stream": "stdout",
       "text": [
        "\n",
        "desk (score = 0.07780)\n",
        "monitor (score = 0.03488)\n",
        "photocopier (score = 0.34901)"
       ]
      },
      {
       "output_type": "stream",
       "stream": "stdout",
       "text": [
        "\n",
        "desk (score = 0.07429)\n",
        "monitor (score = 0.04100)\n",
        "photocopier (score = 0.63563)"
       ]
      },
      {
       "output_type": "stream",
       "stream": "stdout",
       "text": [
        "\n",
        "desk (score = 0.03898)\n",
        "printer (score = 0.03299)\n",
        "bullet train, bullet (score = 0.17665)"
       ]
      },
      {
       "output_type": "stream",
       "stream": "stdout",
       "text": [
        "\n",
        "studio couch, day bed (score = 0.06395)\n",
        "sliding door (score = 0.02793)\n",
        "desk (score = 0.20340)"
       ]
      },
      {
       "output_type": "stream",
       "stream": "stdout",
       "text": [
        "\n",
        "crossword puzzle, crossword (score = 0.16100)\n",
        "mouse, computer mouse (score = 0.08619)\n",
        "mask (score = 0.47045)"
       ]
      },
      {
       "output_type": "stream",
       "stream": "stdout",
       "text": [
        "\n",
        "ski mask (score = 0.19295)\n",
        "lab coat, laboratory coat (score = 0.08275)\n",
        "mask (score = 0.33533)"
       ]
      },
      {
       "output_type": "stream",
       "stream": "stdout",
       "text": [
        "\n",
        "ski mask (score = 0.27830)\n",
        "lab coat, laboratory coat (score = 0.11799)\n",
        "modem (score = 0.40110)"
       ]
      },
      {
       "output_type": "stream",
       "stream": "stdout",
       "text": [
        "\n",
        "projector (score = 0.07643)\n",
        "notebook, notebook computer (score = 0.07217)\n",
        "file, file cabinet, filing cabinet (score = 0.15072)"
       ]
      },
      {
       "output_type": "stream",
       "stream": "stdout",
       "text": [
        "\n",
        "photocopier (score = 0.09001)\n",
        "turnstile (score = 0.06685)\n",
        "file, file cabinet, filing cabinet (score = 0.45581)"
       ]
      },
      {
       "output_type": "stream",
       "stream": "stdout",
       "text": [
        "\n",
        "photocopier (score = 0.13684)\n",
        "printer (score = 0.02104)\n",
        "file, file cabinet, filing cabinet (score = 0.40162)"
       ]
      },
      {
       "output_type": "stream",
       "stream": "stdout",
       "text": [
        "\n",
        "photocopier (score = 0.12582)\n",
        "printer (score = 0.02520)\n",
        "file, file cabinet, filing cabinet (score = 0.41672)"
       ]
      },
      {
       "output_type": "stream",
       "stream": "stdout",
       "text": [
        "\n",
        "photocopier (score = 0.10907)\n",
        "turnstile (score = 0.02592)\n",
        "photocopier (score = 0.14674)"
       ]
      },
      {
       "output_type": "stream",
       "stream": "stdout",
       "text": [
        "\n",
        "file, file cabinet, filing cabinet (score = 0.13012)\n",
        "turnstile (score = 0.03408)\n",
        "photocopier (score = 0.15845)"
       ]
      },
      {
       "output_type": "stream",
       "stream": "stdout",
       "text": [
        "\n",
        "file, file cabinet, filing cabinet (score = 0.14534)\n",
        "printer (score = 0.03480)\n",
        "file, file cabinet, filing cabinet (score = 0.25513)"
       ]
      }
     ]
    },
    {
     "cell_type": "code",
     "collapsed": false,
     "input": [],
     "language": "python",
     "metadata": {},
     "outputs": []
    }
   ],
   "metadata": {}
  }
 ]
}